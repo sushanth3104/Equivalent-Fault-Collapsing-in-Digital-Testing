{
 "cells": [
  {
   "cell_type": "code",
   "execution_count": null,
   "metadata": {},
   "outputs": [],
   "source": [
    "class Net:\n",
    "    all = []\n",
    "    all_instances_names = []\n",
    "    def __init__(self,name):\n",
    "        self.name = name\n",
    "        self.faults = [\"sa0\",\"sa1\"]\n",
    "        Net.all.append(self)\n",
    "        Net.all_instances_names.append(name)\n",
    "        \n",
    "    def __repr__(self):\n",
    "        return f\"Net_{self.name}\""
   ]
  },
  {
   "cell_type": "code",
   "execution_count": null,
   "metadata": {},
   "outputs": [],
   "source": [
    "def EquivalentFaultCollpasing(property):\n",
    "\n",
    "    if property[0] in [\"FANOUT\",\"INPUT\",\"OUTPUT\"] :\n",
    "        # No Equivalence possible in inputs, Fanout Nodes\n",
    "        return \n",
    "\n",
    "    elif property[0] in [\"AND\",\"NAND\"]:\n",
    "        # For AND and NAND gates, Input sa0 fault are equivalent to sa0 and sa1 faults\n",
    "        # at output respectively. So,input sa0 can be eliminated.\n",
    "\n",
    "        for inp in property[2:]:\n",
    "            for net in Net.all:\n",
    "                if net.name == inp:\n",
    "                    if \"sa0\" in net.faults:\n",
    "                        net.faults.remove(\"sa0\")\n",
    "        return\n",
    "    elif property[0] in [\"OR\",\"NOR\"]:\n",
    "        # For OR and NOR gates, Input sa1 fault are equivalent to sa1 and sa0 faults\n",
    "        # at output respectively. So,input sa1 can be eliminated.\n",
    "        for inp in property[2:]:\n",
    "            for net in Net.all:\n",
    "                if net.name == inp:\n",
    "                    if \"sa1\" in net.faults:\n",
    "                        net.faults.remove(\"sa1\")\n",
    "        return\n",
    "    elif property[0] == \"NOT\":\n",
    "        # For NOT gate, Input sa0,sa1 fault are equivalent to sa1,sa0 repectively fault at output.\n",
    "        # So,input sa0 and sa1 can be eliminated.\n",
    "        for net in Net.all:\n",
    "            if net.name == property[2]:\n",
    "                if \"sa0\" in net.faults:\n",
    "                    net.faults.remove(\"sa0\")\n",
    "                if \"sa1\" in net.faults:\n",
    "                    net.faults.remove(\"sa1\")\n",
    "        return\n",
    "\n",
    "    "
   ]
  },
  {
   "cell_type": "code",
   "execution_count": null,
   "metadata": {},
   "outputs": [],
   "source": [
    "import itertools\n",
    "\n",
    "def faultPopulation(file):\n",
    "    nodelist = []\n",
    "    for prop in file:\n",
    "        nodelist.append(prop[1:])\n",
    "\n",
    "    nodelist =  list(set(itertools.chain(*nodelist)))\n",
    "\n",
    "    # Populating the faults for each node \n",
    "    for node in nodelist:\n",
    "        Net(node)\n",
    "    \n",
    "    total_faults = 2*len(nodelist)\n",
    "\n",
    "    return total_faults\n",
    "\n",
    "\n",
    "\n"
   ]
  },
  {
   "cell_type": "code",
   "execution_count": null,
   "metadata": {},
   "outputs": [],
   "source": [
    "\n",
    "\n",
    "with open(\"netlist.txt\") as f:\n",
    "    netlist = f.readlines()\n",
    "\n",
    "# Cleaning the netlist\n",
    "for i in range(len(netlist)):\n",
    "    netlist[i] = netlist[i].split()\n",
    "    netlist[i] = [x for x in netlist[i] if x != '']\n",
    "\n",
    "TotalFaultBeforeCollapsing = faultPopulation(netlist)\n",
    "print(f\"Total Faults before Collapsing :{TotalFaultBeforeCollapsing}\")\n",
    "print(\"Populated Fault list for each node :\")\n",
    "\n",
    "for net in Net.all:\n",
    "    print(net.name,net.faults)\n",
    "\n",
    "# Fault collapsing\n",
    "for prop in netlist:\n",
    "    EquivalentFaultCollpasing(prop)\n",
    "\n"
   ]
  },
  {
   "cell_type": "code",
   "execution_count": null,
   "metadata": {},
   "outputs": [],
   "source": [
    "for net in Net.all:\n",
    "    print(net.name,net.faults)"
   ]
  }
 ],
 "metadata": {
  "language_info": {
   "name": "python"
  }
 },
 "nbformat": 4,
 "nbformat_minor": 2
}
