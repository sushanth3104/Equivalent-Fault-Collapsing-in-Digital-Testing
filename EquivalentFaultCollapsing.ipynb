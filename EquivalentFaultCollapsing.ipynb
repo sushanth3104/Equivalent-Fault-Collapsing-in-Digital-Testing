{
 "cells": [
  {
   "cell_type": "code",
   "execution_count": null,
   "metadata": {},
   "outputs": [],
   "source": [
    "class Net:\n",
    "    all = []\n",
    "    all_instances_names = []\n",
    "    def __init__(self,name):\n",
    "        self.name = name\n",
    "        self.faults = [\"sa0\",\"sa1\"]\n",
    "        Net.all.append(self)\n",
    "        Net.all_instances_names.append(name)\n",
    "        \n",
    "    def __repr__(self):\n",
    "        return f\"Net_{self.name}\""
   ]
  }
 ],
 "metadata": {
  "language_info": {
   "name": "python"
  }
 },
 "nbformat": 4,
 "nbformat_minor": 2
}
